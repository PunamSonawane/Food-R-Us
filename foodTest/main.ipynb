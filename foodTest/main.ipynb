{
 "cells": [
  {
   "cell_type": "code",
   "execution_count": 20,
   "metadata": {},
   "outputs": [],
   "source": [
    "import json\n",
    "import os,requests"
   ]
  },
  {
   "cell_type": "code",
   "execution_count": 24,
   "metadata": {},
   "outputs": [],
   "source": [
    "term = 'Restaurants '\n",
    "location = 'Toronto'\n",
    "SEARCH_LIMIT = 20"
   ]
  },
  {
   "cell_type": "code",
   "execution_count": 25,
   "metadata": {},
   "outputs": [],
   "source": [
    "url = 'https://api.yelp.com/v3/businesses/search'\n",
    "\n",
    "headers = {\n",
    "        'Authorization': 'Bearer {}'.format(\"tjoCWV1N7vncjx7yQkbRj8sa_V35ENjRSgetql-asev5rmOrqCjQEjVISjMN191l5KbOvmJfHz2u6Y-ch8agkzJ-46qeM8R2lMfrqZoLBTk02d4zHSi8QkhY9rY4XnYx\"),\n",
    "    }\n",
    "\n",
    "url_params = {\n",
    "                'term': term.replace(' ', '+'),\n",
    "                'location': location.replace(' ', '+'),\n",
    "                'limit': SEARCH_LIMIT\n",
    "            }"
   ]
  },
  {
   "cell_type": "code",
   "execution_count": 26,
   "metadata": {},
   "outputs": [],
   "source": [
    "response = requests.get(url, headers=headers, params=url_params)\n",
    "\n"
   ]
  },
  {
   "cell_type": "code",
   "execution_count": 63,
   "metadata": {},
   "outputs": [
    {
     "name": "stdout",
     "output_type": "stream",
     "text": [
      "<Response [200]>\n",
      "<class 'str'>\n",
      "{\"businesses\": [{\"id\": \"7UBOtHkr8dd1glP634Kkjw\", \"alias\": \"eataly-toronto-3\", \"name\": \"Eataly\", \"image_url\": \"https://s3-media1.fl.yelpcdn.com/bphoto/-yHitTMVMgsLElhxgsG1ZA/o.jpg\", \"is_closed\": false, \"url\": \"https://www.yelp.com/biz/eataly-toronto-3?adjust_creative=7XIiaRJ_izN-Q5jpSswUQA&utm_campaign=yelp_api_v3&utm_medium=api_v3_business_search&utm_source=7XIiaRJ_izN-Q5jpSswUQA\", \"review_count\": 123, \"categories\": [{\"alias\": \"italian\", \"title\": \"Italian\"}, {\"alias\": \"cheese\", \"title\": \"Cheese Shops\"}, {\"alias\": \"pizza\", \"title\": \"Pizza\"}], \"rating\": 3.5, \"coordinates\": {\"latitude\": 43.6696154170451, \"longitude\": -79.3887948598768}, \"transactions\": [], \"price\": \"$$\", \"location\": {\"address1\": \"55 Bloor Street W\", \"address2\": \"\", \"address3\": \"Manulife Centre\", \"city\": \"Toronto\", \"zip_code\": \"M4W 1A6\", \"country\": \"CA\", \"state\": \"ON\", \"display_address\": [\"55 Bloor Street W\", \"Manulife Centre\", \"Toronto, ON M4W 1A6\", \"Canada\"]}, \"phone\": \"+14373740250\", \"display_phone\": \"+1 437-374-0250\", \"distance\": 828.1659985341682}, {\"id\": \"RG4NphZCi8Pw6Ei-g6oaqg\", \"alias\": \"steam-whistle-brewing-toronto\", \"name\": \"Steam Whistle Brewing\", \"image_url\": \"https://s3-media3.fl.yelpcdn.com/bphoto/-6hgl9o9d2Qr4ZXNwPKoGA/o.jpg\", \"is_closed\": false, \"url\": \"https://www.yelp.com/biz/steam-whistle-brewing-toronto?adjust_creative=7XIiaRJ_izN-Q5jpSswUQA&utm_campaign=yelp_api_v3&utm_medium=api_v3_business_search&utm_source=7XIiaRJ_izN-Q5jpSswUQA\", \"review_count\": 353, \"categories\": [{\"alias\": \"breweries\",\n"
     ]
    }
   ],
   "source": [
    "print(response)\n",
    "print(type(response.text))\n",
    "print(response.text[:1500])"
   ]
  },
  {
   "cell_type": "code",
   "execution_count": 67,
   "metadata": {},
   "outputs": [],
   "source": [
    "Resto_name=[]\n",
    "Food_category=[]\n",
    "Resto_rating=[]\n",
    "Lat=[]\n",
    "Long=[]\n",
    "Address=[]\n",
    "City=[]\n",
    "Country=[]\n",
    "Phone=[]\n",
    "\n",
    "\n",
    "for business in response.json()[\"businesses\"]:\n",
    "    name=business[\"name\"]\n",
    "    Resto_name.append(name)\n",
    "    catg=business[\"categories\"][0][\"title\"]\n",
    "    Food_category.append(catg)\n",
    "    rating=business[\"rating\"]\n",
    "    Resto_rating.append(rating)\n",
    "    lat=business[\"coordinates\"][\"latitude\"]\n",
    "    Lat.append(lat)\n",
    "    long=business[\"coordinates\"][\"longitude\"]\n",
    "    Long.append(long)\n",
    "    addr=business[\"location\"][\"display_address\"][0]\n",
    "    Address.append(addr)\n",
    "    city=business[\"location\"][\"city\"]\n",
    "    City.append(city)\n",
    "    cout=business[\"location\"][\"country\"]\n",
    "    Country.append\n",
    "    phn=business[\"display_phone\"]\n",
    "    Phone.append(phn)\n",
    "   \n"
   ]
  },
  {
   "cell_type": "code",
   "execution_count": 69,
   "metadata": {},
   "outputs": [
    {
     "data": {
      "text/plain": [
       "['+1 437-374-0250',\n",
       " '+1 416-362-2337',\n",
       " '+1 416-730-8555',\n",
       " '+1 647-668-6787',\n",
       " '+1 416-540-4030',\n",
       " '+1 416-901-4724',\n",
       " '+1 416-504-1020',\n",
       " '+1 416-681-0338',\n",
       " '',\n",
       " '+1 647-284-5530',\n",
       " '+1 416-293-2689',\n",
       " '+1 416-921-4600',\n",
       " '+1 647-951-3331',\n",
       " '+1 416-504-9669',\n",
       " '+1 416-365-7253',\n",
       " '',\n",
       " '+1 647-343-8887',\n",
       " '+1 647-748-1165',\n",
       " '+1 416-766-7001',\n",
       " '+1 647-430-3553']"
      ]
     },
     "execution_count": 69,
     "metadata": {},
     "output_type": "execute_result"
    }
   ],
   "source": [
    "Phone"
   ]
  },
  {
   "cell_type": "code",
   "execution_count": null,
   "metadata": {},
   "outputs": [],
   "source": []
  },
  {
   "cell_type": "code",
   "execution_count": null,
   "metadata": {},
   "outputs": [],
   "source": []
  }
 ],
 "metadata": {
  "kernelspec": {
   "display_name": "Python 3",
   "language": "python",
   "name": "python3"
  },
  "language_info": {
   "codemirror_mode": {
    "name": "ipython",
    "version": 3
   },
   "file_extension": ".py",
   "mimetype": "text/x-python",
   "name": "python",
   "nbconvert_exporter": "python",
   "pygments_lexer": "ipython3",
   "version": "3.6.9"
  },
  "nteract": {
   "version": "0.12.3"
  }
 },
 "nbformat": 4,
 "nbformat_minor": 2
}
